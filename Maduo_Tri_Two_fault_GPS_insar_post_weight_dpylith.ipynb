{
 "cells": [
  {
   "cell_type": "code",
   "execution_count": 1,
   "metadata": {},
   "outputs": [],
   "source": [
    "from typing import Tuple\n",
    "import SourceInv as Si\n",
    "import Fault as fa\n",
    "import numpy as np\n",
    "from mpl_toolkits import mplot3d\n",
    "from mpl_toolkits.mplot3d import Axes3D\n",
    "import matplotlib.pyplot as plt\n",
    "import makeFault3D as fd\n",
    "import math\n",
    "import TriangularPatches as TriP\n",
    "import gps\n",
    "import insar\n",
    "from point import parallelline as pll\n",
    "\n",
    "import multifaultsolve as slove\n",
    "name = 'F000'\n",
    "mark = 'Maduo'\n",
    "lono = 98.5    #143  #\n",
    "lato = 34.6    #38.2 #"
   ]
  },
  {
   "cell_type": "markdown",
   "metadata": {},
   "source": [
    "Read the fault file, the fault is from two file"
   ]
  },
  {
   "cell_type": "code",
   "execution_count": 2,
   "metadata": {},
   "outputs": [],
   "source": [
    "st=0.0\n",
    "et=1.0\n",
    "workpath='3e19_7e19_K10'"
   ]
  },
  {
   "cell_type": "code",
   "execution_count": null,
   "metadata": {},
   "outputs": [],
   "source": [
    "name = np.loadtxt('./example_test/Maduo/gps_post/20231002/gps_'+str(st)+'_'+str(et)+'_post_disp.txt',comments='#',usecols=(0),unpack=True,dtype=str)\n",
    "origps = np.loadtxt('./example_test/Maduo/gps_post/20231002/gps_'+str(st)+'_'+str(et)+'_post_disp.txt', comments='#', usecols=(1,2,3,4,5,6,7,8), unpack=True) # neu\n",
    "pylithgps =  np.loadtxt('./example_test/Maduo/gps_post/20231002/'+workpath+'/pylith_gps_post_'+str(st)+'_'+str(et)+'_total.dat', comments='#', usecols=(3,4,5), unpack=True) #enu\n",
    "#neu\n",
    "origps[2] = origps[2] - pylithgps[1]\n",
    "origps[3] = origps[3] - pylithgps[0]\n",
    "origps[4] = origps[4] - pylithgps[2]\n",
    "flld = open('./example_test/Maduo/gps_post/20231002/'+workpath+'/gps_ori_pylith_post_'+str(st)+'_'+str(et)+'.dat','w')\n",
    "for i in range(len(name)):\n",
    "    flld.write('{:7s} {:12.5f} {:12.5f} {:12.5f} {:12.5f} {:12.5f} {:10.5f} {:10.5f} {:10.5f}\\n'.format(name[i],origps[0][i],origps[1][i],origps[2][i],origps[3][i],origps[4][i],origps[5][i],origps[6][i],origps[7][i]))\n"
   ]
  },
  {
   "cell_type": "code",
   "execution_count": 3,
   "metadata": {},
   "outputs": [
    {
     "name": "stdout",
     "output_type": "stream",
     "text": [
      "---------------------------------\n",
      "---------------------------------\n",
      "Initialize GPS array B001\n",
      "Read data from file ./example_test/Maduo/gps_post/20231002/3e19_7e19_K10/gps_ori_pylith_post_0.0_1.0.dat into data set B001\n",
      "load  48  stations\n"
     ]
    }
   ],
   "source": [
    "dataGPS = gps.gps('B001', utmzone=None, ellps='WGS84',lon0=lono, lat0=lato)\n",
    "dataGPS.read_from_neu('./example_test/Maduo/gps_post/20231002/'+workpath+'/gps_ori_pylith_post_'+str(st)+'_'+str(et)+'.dat',factor=1.0)"
   ]
  },
  {
   "cell_type": "code",
   "execution_count": 4,
   "metadata": {},
   "outputs": [],
   "source": [
    "pylith_insar_des_vel=np.loadtxt('./example_test/Maduo/insar/pylith/'+workpath+'/pylith_insar_post_0.0_1.0_Sen1_des_total.dat',usecols=(2),unpack=True)\n",
    "pylith_insar_asc_vel=np.loadtxt('./example_test/Maduo/insar/pylith/'+workpath+'/pylith_insar_post_0.0_1.0_Sen1_asc_total.dat',usecols=(2),unpack=True)"
   ]
  },
  {
   "cell_type": "code",
   "execution_count": 5,
   "metadata": {},
   "outputs": [
    {
     "name": "stdout",
     "output_type": "stream",
     "text": [
      "---------------------------------\n",
      "---------------------------------\n",
      "Initialize InSAR data set A001\n",
      "Indar point:  4618\n"
     ]
    }
   ],
   "source": [
    "datainsar_asc = insar.insar('A001',utmzone=None, ellps='WGS84',lon0=lono, lat0=lato)\n",
    "dsampledatafile='./example_test/Maduo/insar/Asc20220503/dsample_insar_data_jin_'+mark+'_all_RED_asc.txt'\n",
    "datainsar_asc.read_from_ascii(dsampledatafile)\n",
    "datainsar_asc.err=datainsar_asc.err+5.0\n",
    "datainsar_asc.vel = datainsar_asc.vel - pylith_insar_asc_vel"
   ]
  },
  {
   "cell_type": "code",
   "execution_count": 6,
   "metadata": {},
   "outputs": [
    {
     "name": "stdout",
     "output_type": "stream",
     "text": [
      "---------------------------------\n",
      "---------------------------------\n",
      "Initialize InSAR data set A002\n",
      "Indar point:  3748\n"
     ]
    }
   ],
   "source": [
    "datainsar_des = insar.insar('A002',utmzone=None, ellps='WGS84',lon0=lono, lat0=lato)\n",
    "dsampledatafile='./example_test/Maduo/insar/Des20220503/dsample_insar_data_jin_'+mark+'_all_RED_des.txt'\n",
    "datainsar_des.read_from_ascii(dsampledatafile)\n",
    "datainsar_des.err=datainsar_des.err+5.0\n",
    "datainsar_des.vel = datainsar_des.vel - pylith_insar_des_vel"
   ]
  },
  {
   "cell_type": "code",
   "execution_count": 7,
   "metadata": {},
   "outputs": [
    {
     "name": "stdout",
     "output_type": "stream",
     "text": [
      "---------------------------------\n",
      "Initializing fault F001\n",
      "Fault strike degree:  [-92.58877551 -92.56214598 -92.50540519 -86.37456814 -76.1073404\n",
      " -75.96505773 -75.9852778  -75.93186298 -75.75933109 -66.7409219\n",
      " -66.61723478 -84.20690712 -84.09551808 -84.05001545]\n",
      "Fault length(Km):  [ 6.89169542  9.18936768  9.18971271 13.79971094 23.62651522  4.72477503\n",
      "  9.44533045 14.16279214 32.35281927  8.1619137   9.74232812  7.06850952\n",
      "  9.19217311 23.41701748]\n",
      "Fault total length(Km):  180.964660787948\n",
      "Fault width(Km):  [50.54593574]\n",
      "Fault Depth(Km):  [50.169174]\n",
      "Patches shape: 45 / 12\n"
     ]
    }
   ],
   "source": [
    "#dip = np.array([[8.6,25],[85,7],[30,20],[60,6]])\n",
    "#dip = np.array([[8.6,25],[65,5],[50,16],[50,6]])\n",
    "dip = np.array([[6.16,83]]) # 3.1 #3.7 #4.3 #4.93 #5.55 #6.16 #6.8 #7.4 #\n",
    "Fd1 = fd.Fault_Grid('F001', utmzone=None, ellps='WGS84',lon0=lono, lat0=lato)\n",
    "Fd1.file2trace('./example_test/Maduo/fault_Maduo_eq_F1.txt')\n",
    "Fd1.cal_xyi_from_one_more(dip,dwidth = 4 ,dlength = 4,xaxis='x')\n",
    "\n",
    "Fd1.buildPatch_from_xi()\n"
   ]
  },
  {
   "cell_type": "code",
   "execution_count": 9,
   "metadata": {},
   "outputs": [
    {
     "name": "stdout",
     "output_type": "stream",
     "text": [
      "---------------------------------\n",
      "Initializing fault F002\n",
      "Fault strike degree:  [-88.202237   -88.17381779 -88.15960744 -85.98625165 -68.81222127\n",
      " -58.47599201]\n",
      "Fault length(Km):  [6.9217102  2.3071933  2.30717206 9.38448992 3.28080006 7.7657092 ]\n",
      "Fault total length(Km):  31.96707472433155\n",
      "Fault width(Km):  [50.42284588]\n",
      "Fault Depth(Km):  [50.41516624]\n",
      "Patches shape: 8 / 12\n"
     ]
    }
   ],
   "source": [
    "dip = np.array([[0.88,89]])#3.7 #0.44 #0.53 0.7 0.79 0.88,1.05\n",
    "Fd2 = fd.Fault_Grid('F002',utmzone=None, ellps='WGS84',lon0=lono, lat0=lato )\n",
    "Fd2.file2trace('./example_test/Maduo/fault_Maduo_eq_F2.txt')\n",
    "Fd2.cal_xyi_from_one_more(dip,dwidth = 4 ,dlength = 4,xaxis='x')\n",
    "Fd2.buildPatch_from_xi()\n"
   ]
  },
  {
   "cell_type": "markdown",
   "metadata": {},
   "source": [
    "Make Green function , Laplace matrix for each fault. \n",
    "Laplace matrix sugguest use the Xu etal.,2015. \n"
   ]
  },
  {
   "cell_type": "code",
   "execution_count": 10,
   "metadata": {},
   "outputs": [
    {
     "name": "stdout",
     "output_type": "stream",
     "text": [
      "---------------------------------\n",
      "Initializing fault F001\n",
      "---------------------------------\n",
      "Initializing fault F002\n"
     ]
    }
   ],
   "source": [
    "Tf1 = TriP.TriangularPatches('F001', utmzone=None, ellps='WGS84',lon0=lono, lat0=lato)\n",
    "Tf1.patches2triangles(Fd1, numberOfTriangles=2)\n",
    "Tf2 = TriP.TriangularPatches('F002', utmzone=None, ellps='WGS84',lon0=lono, lat0=lato)\n",
    "Tf2.patches2triangles(Fd2, numberOfTriangles=2)"
   ]
  },
  {
   "cell_type": "code",
   "execution_count": null,
   "metadata": {},
   "outputs": [],
   "source": [
    "##dataGPS.buildDiagCd()\n",
    "#Tf.buildGFs(dataGPS,slipdir='sdt')\n",
    "#faults=[Fd1,Fd2]\n",
    "datas=[datainsar_asc,datainsar_des,dataGPS]\n",
    "#datas=[datainsar1,dataGPS]\n",
    "#datas = [datainsar]\n",
    "faults=[Tf1,Tf2]\n",
    "for fault in faults:\n",
    "    for data in datas:\n",
    "        fault.buildGFs(data,slipdir='sd')\n",
    "    #fault.buildLaplacian(method='Xu',locked=True)\n",
    "    fault.buildLaplacian(method='trao',mapmethod='three')"
   ]
  },
  {
   "cell_type": "markdown",
   "metadata": {},
   "source": [
    "Scale Xiongwei 2022\n",
    "Cd=(Cdinsar, Cdgps) ---> W = Cd^-1  ---> W_gps / W_insar = W_ratio"
   ]
  },
  {
   "cell_type": "markdown",
   "metadata": {},
   "source": [
    "\n",
    "$$C_m(i,j) = (\\frac{\\sigma \\lambda_0}{ \\lambda })^2 e^{-\\frac{||i,j||_2}{ \\lambda }}$$\n",
    "$$\n",
    "\\textbf{m}_{post} = \\textbf{m}_{prior} + (\\textbf{G}^t \\textbf{C}_d^{-1} \\textbf{G})^{-1} \\textbf{G}^t \\textbf{C}_d^{-1} (\\textbf{d} - \\textbf{Gm}_{prior})\n",
    "$$\n",
    "Builds a model covariance matrix using the equation described in\n",
    "        Radiguet et al 2010. Here, Sigma and Lambda are lists specifying\n",
    "        values for the slip directions.\n",
    "        \n",
    "$$\n",
    "C_m(i,j) = (\\frac{\\sigma \\lambda_0}{ \\lambda })^2 e^{-\\frac{||i,j||_2}{\\lambda}}\n",
    "$$\n",
    "where,\n",
    "$$\n",
    "||i,j||_2\n",
    "$$ \n",
    "is the distance between subfaults,\n",
    "$$\n",
    "e^{-\\frac{||i,j||_2}{\\lambda}}\n",
    "$$ \n",
    "to introduce the correction between nearby parameters,the decreasing exponential stabilizes the solution at large distance, while  allowing important variations in the slip amplitude for nearby subfaults\n",
    "$$\n",
    "(\\frac{\\sigma\\lambda_0}{\\lambda})^2\n",
    "$$\n",
    "weighting factor decease as the lambda increase\n",
    "lambda increase the more coefficients of the Cm become non-null.\n",
    "\n",
    "$$\\sigma$$ \n",
    "  is the a priori standard deviation of model parameters,fixed to 0.5m,\n",
    "$$\\lambda_0$$\n",
    "is a scaling factor fixed to 10 km (about the size of a subfault\n",
    "$$\\lambda$$  \n",
    "is the correlation length, fixing the distance over which parameters are correlated.\n"
   ]
  },
  {
   "cell_type": "code",
   "execution_count": 47,
   "metadata": {},
   "outputs": [
    {
     "name": "stdout",
     "output_type": "stream",
     "text": [
      "Weight ratio gps/insar:  13.0\n"
     ]
    },
    {
     "name": "stdout",
     "output_type": "stream",
     "text": [
      "---------------------------------\n",
      "---------------------------------\n",
      "Assembling G for fault F001\n",
      "Dealing with A001 of type insar\n",
      "Dealing with A002 of type insar\n",
      "Dealing with B001 of type gps\n",
      "---------------------------------\n",
      "---------------------------------\n",
      "Assembling d vector\n",
      "Number of data ： 8510\n",
      "Dealing with data A001\n",
      "Dealing with data A002\n",
      "Dealing with data B001\n",
      "---------------------------------\n",
      "---------------------------------\n",
      "Assembling G for fault F002\n",
      "Dealing with A001 of type insar\n",
      "Dealing with A002 of type insar\n",
      "Dealing with B001 of type gps\n",
      "---------------------------------\n",
      "---------------------------------\n",
      "Assembling d vector\n",
      "Number of data ： 8510\n",
      "Dealing with data A001\n",
      "Dealing with data A002\n",
      "Dealing with data B001\n",
      "---------------------------------\n",
      "---------------------------------\n",
      "Initializing solver object\n",
      "Number of data: 8510\n",
      "Number of parameters: 1452\n",
      "-----------------\n",
      "Fault Name                    ||Strike Slip ||Dip Slip    ||Tensile     ||Coupling    ||Extra Parms \n",
      "F001                          ||   0 -  630 || 630 - 1260 ||None        ||None        ||None        \n",
      "-----------------\n",
      "Fault Name                    ||Strike Slip ||Dip Slip    ||Tensile     ||Coupling    ||Extra Parms \n",
      "F002                          ||1260 - 1356 ||1356 - 1452 ||None        ||None        ||None        \n",
      "Number of parameters: 1452\n",
      "-----------------\n",
      "Fault Name                    ||Strike Slip ||Dip Slip    ||Tensile     ||Coupling    ||Extra Parms \n",
      "F001                          ||   0 -  630 || 630 - 1260 ||None        ||None        ||None        \n",
      "-----------------\n",
      "Fault Name                    ||Strike Slip ||Dip Slip    ||Tensile     ||Coupling    ||Extra Parms \n",
      "F002                          ||1260 - 1356 ||1356 - 1452 ||None        ||None        ||None        \n",
      "---------------------------------\n",
      "---------------------------------\n",
      "Assembling the Cm matrix \n",
      "Sigma = 100.0\n",
      "Lambda = 10.0\n",
      "---------------------------------\n",
      "---------------------------------\n",
      "Assembling the Cm matrix \n",
      "Sigma = 100.0\n",
      "Lambda = 10.0\n",
      "---------------------------------\n",
      "---------------------------------\n",
      "Initializing solver object\n",
      "Number of data: 8510\n",
      "Number of parameters: 1452\n",
      "-----------------\n",
      "Fault Name                    ||Strike Slip ||Dip Slip    ||Tensile     ||Coupling    ||Extra Parms \n",
      "F001                          ||   0 -  630 || 630 - 1260 ||None        ||None        ||None        \n",
      "-----------------\n",
      "Fault Name                    ||Strike Slip ||Dip Slip    ||Tensile     ||Coupling    ||Extra Parms \n",
      "F002                          ||1260 - 1356 ||1356 - 1452 ||None        ||None        ||None        \n",
      "---------------------------------\n",
      "---------------------------------\n",
      "Computing the Generalized Inverse\n",
      "Computing the inverse of the model covariance\n",
      "Computing the inverse of the data covariance\n",
      "Computing m_post:\n",
      "Compute cost function:\n",
      "1018986.4976038524\n",
      "RMS:  10.942572547646176\n",
      "cost:  1891.101271266481\n",
      "Magnitude is\n",
      "8.496179929149129\n",
      "---------------------------------\n",
      "---------------------------------\n",
      "Distribute the slip values to fault F001\n",
      "---------------------------------\n",
      "---------------------------------\n",
      "Distribute the slip values to fault F002\n"
     ]
    }
   ],
   "source": [
    "#w_ratio_list=[1.0,3.0,5.0,8.0,10.0,13.0,15.0,20.0,30.0,50.0,80.0,100.0,150.0,200.0]\n",
    "w_ratio_list=[15.0]\n",
    "Maxslip_list = []\n",
    "cost_list = []\n",
    "res_list = []\n",
    "rms_list = []\n",
    "Variance_list = []\n",
    "Chi_square_list = []\n",
    "for w_ratio in w_ratio_list:\n",
    "    gpsalpha=1.0\n",
    "    insaralpha=np.sqrt(w_ratio)\n",
    "    print('Weight ratio gps/insar: ', w_ratio)\n",
    "    for data in datas:\n",
    "        if data.dtype in ['insar', 'insartimeseries']:\n",
    "            data.buildDiagCd(scale=insaralpha)\n",
    "        elif data.dtype in ['gps', 'opticorr', 'multigps']:\n",
    "            data.buildCd(direction='enu',scale=gpsalpha)\n",
    "        else:\n",
    "            print('Warning!!!')\n",
    "\n",
    "    #Tf.buildGFs(data,slipdir='sdt')\n",
    "    for fault in faults:\n",
    "        fault.assembleGFs(datas,slipdir='sd')\n",
    "        fault.assembled(datas)\n",
    "        fault.assembleCd(datas)\n",
    "        fault.assembleLaplace()\n",
    "    # construct function\n",
    "    result = slove.multifaultsolve('Maduo',faults)\n",
    "    result.assembleGFs()\n",
    "    result.assembleCm()\n",
    "    result.assembleLaplace()\n",
    "    ###solve\n",
    "    def sm(a):\n",
    "        sigmaS=1000.0*(10**(a))\n",
    "        return sigmaS\n",
    "    Cm_sigmaS = 100.0 \n",
    "    Cm_lamS = 10.0\n",
    "    for fault in faults:\n",
    "        fault.buildCmSlipDirs(Cm_sigmaS, Cm_lamS)\n",
    "    result = slove.multifaultsolve('Maduo',faults)\n",
    "    result.assembleGFs()\n",
    "    result.assembleCm()\n",
    "    result.GeneralizedLeastSquareSoln(method='jovt')\n",
    "    result.distributem(verbose=True)\n",
    "    for data in datas:\n",
    "        data.buildsynth(faults,direction='sd')\n",
    "        rms_list.append(data.getRMS())\n",
    "        Variance_list.append(data.getVariance())\n",
    "        Chi_square_list.append(data.getChi_square())\n",
    "    Maxslip = np.max(result.mpost)\n",
    "    costmf = result.cost\n",
    "    restmf = result.residual\n",
    "    cost_list.append(costmf)\n",
    "    Maxslip_list.append(Maxslip)\n",
    "    res_list.append(restmf)"
   ]
  },
  {
   "cell_type": "code",
   "execution_count": 3,
   "metadata": {},
   "outputs": [],
   "source": [
    "resultpath='pylith/'+workpath + '/two_fault'"
   ]
  },
  {
   "cell_type": "code",
   "execution_count": 48,
   "metadata": {},
   "outputs": [],
   "source": [
    "rmsarray=np.array(rms_list)[:,1].reshape(len(w_ratio_list),3)\n",
    "Variancearray=np.array(Variance_list)[:,1].reshape(len(w_ratio_list),3)\n",
    "Chi_squarearray=np.array(Chi_square_list)[:,1].reshape(len(w_ratio_list),3)\n",
    "\n",
    "misfitfile = './example_test/Maduo/insar/'+resultpath+'/fix_max_misfit_insar_res5_Cm_'+str(Cm_sigmaS)+'_'+str(Cm_lamS)+'_w_ratio_D25_13.txt'\n",
    "misfitdata=np.c_[np.array(w_ratio_list),np.array(cost_list),np.array(Maxslip_list),np.array(res_list),rmsarray,Variancearray,Chi_squarearray]\n",
    "np.savetxt(misfitfile,misfitdata,fmt='%15.4f')"
   ]
  },
  {
   "cell_type": "code",
   "execution_count": null,
   "metadata": {},
   "outputs": [],
   "source": [
    "result.distributem(verbose=True)"
   ]
  },
  {
   "cell_type": "markdown",
   "metadata": {},
   "source": [
    "分配断层的数据"
   ]
  },
  {
   "cell_type": "code",
   "execution_count": 147,
   "metadata": {},
   "outputs": [
    {
     "name": "stdout",
     "output_type": "stream",
     "text": [
      "Writing geometry to file ./example_test/Maduo/insar/pylith/3e19_7e19_K10/two_fault/patch3D_TED_insar_Maduo_strike_F0_mRai_Cms100.0_Cml10.0_DD60_R13.0.txt\n",
      "Writing geometry to file ./example_test/Maduo/insar/pylith/3e19_7e19_K10/two_fault/patch3D_TED_insar_Maduo_dip_F0_mRai_Cms100.0_Cml10.0_DD60_R13.0.txt\n",
      "Writing geometry to file ./example_test/Maduo/insar/pylith/3e19_7e19_K10/two_fault/patch3D_TED_insar_Maduo_total_F0_mRai_Cms100.0_Cml10.0_DD60_R13.0.txt\n",
      "Writing geometry to file ./example_test/Maduo/insar/pylith/3e19_7e19_K10/two_fault/patch3D_TED_insar_Maduo_strike_F1_mRai_Cms100.0_Cml10.0_DD60_R13.0.txt\n",
      "Writing geometry to file ./example_test/Maduo/insar/pylith/3e19_7e19_K10/two_fault/patch3D_TED_insar_Maduo_dip_F1_mRai_Cms100.0_Cml10.0_DD60_R13.0.txt\n",
      "Writing geometry to file ./example_test/Maduo/insar/pylith/3e19_7e19_K10/two_fault/patch3D_TED_insar_Maduo_total_F1_mRai_Cms100.0_Cml10.0_DD60_R13.0.txt\n",
      "Writing geometry to file ./example_test/Maduo/insar/pylith/3e19_7e19_K10/two_fault/patch3D_TED_insar_Maduo_total_F12_mRai_Cms100.0_Cml10.0_DD60_R13.0.txt\n"
     ]
    }
   ],
   "source": [
    "#two fault \n",
    "method='Rai' #L-curve\n",
    "pathm='TED'\n",
    "Depth='D50'\n",
    "Cm_sigmaS = 100.0 \n",
    "Cm_lamS = 10.0\n",
    "w_ratio = 15.0\n",
    "filemark = '_m'+method+'_Cms'+str(Cm_sigmaS)+'_Cml'+str(Cm_lamS)+'_D'+Depth+'_R' + str(w_ratio)\n",
    "for i in range(len(faults)):\n",
    "    savPatchfile='./example_test/Maduo/insar/'+resultpath+'/patch3D_'+pathm+'_insar_'+mark+'_strike_F'+ str(i) + filemark +'.txt'\n",
    "    faults[i].writePatches2File(savPatchfile,add_slip='strikeslip',scale=0.001)\n",
    "    savPatchfile='./example_test/Maduo/insar/'+resultpath+'/patch3D_'+pathm+'_insar_'+mark+'_dip_F'+ str(i) +filemark+'.txt'\n",
    "    faults[i].writePatches2File(savPatchfile,add_slip='dipslip',scale=0.001)\n",
    "    savPatchfile='./example_test/Maduo/insar/'+resultpath+'/patch3D_'+pathm+'_insar_'+mark+'_total_F'+ str(i) + filemark +'.txt'\n",
    "    faults[i].writePatches2File(savPatchfile,add_slip='total',scale=0.001)\n",
    "savPatchfile='./example_test/Maduo/insar/'+resultpath+'/patch3D_'+pathm+'_insar_'+mark+'_total_F12'+ filemark +'.txt'\n",
    "result.writePatches2File(savPatchfile,add_slip='total',scale=0.001)\n",
    "#result.writeFaultgeometry(path='./example_test/Maduo/',stype='Relax',clon=lono,clat=lato,scale=0.001)"
   ]
  },
  {
   "cell_type": "code",
   "execution_count": 148,
   "metadata": {},
   "outputs": [],
   "source": [
    "insartype='des'\n",
    "datainsar_des.buildsynth(faults,direction='sd')\n",
    "syndatafile='./example_test/Maduo/insar/'+resultpath+'/Insar_org_data_'+insartype + filemark +'.txt'\n",
    "datainsar_des.write2file(syndatafile,data='data')\n",
    "syndatafile='./example_test/Maduo/insar/'+resultpath+'/Insar_syn_data_'+insartype + filemark +'.txt'\n",
    "datainsar_des.write2file(syndatafile,data='synth')\n",
    "errdatafile='./example_test/Maduo/insar/'+resultpath+'/Insar_err_data_'+insartype + filemark +'.txt'\n",
    "datainsar_des.write2file(errdatafile,data='resid')"
   ]
  },
  {
   "cell_type": "code",
   "execution_count": 149,
   "metadata": {},
   "outputs": [],
   "source": [
    "insartype='asc'\n",
    "datainsar_asc.buildsynth(faults,direction='sd')\n",
    "syndatafile='./example_test/Maduo/insar/'+resultpath+'/Insar_org_data_'+insartype+ filemark +'.txt'\n",
    "datainsar_asc.write2file(syndatafile,data='data')\n",
    "syndatafile='./example_test/Maduo/insar/'+resultpath+'/Insar_syn_data_'+insartype+ filemark +'.txt'\n",
    "datainsar_asc.write2file(syndatafile,data='synth')\n",
    "errdatafile='./example_test/Maduo/insar/'+resultpath+'/Insar_err_data_'+insartype+ filemark +'.txt'\n",
    "datainsar_asc.write2file(errdatafile,data='resid')"
   ]
  },
  {
   "cell_type": "code",
   "execution_count": 150,
   "metadata": {},
   "outputs": [
    {
     "name": "stdout",
     "output_type": "stream",
     "text": [
      "Write data set B001 to file .//./example_test/Maduo/insar/pylith/3e19_7e19_K10/two_fault/GPS_org_data_mRai_Cms100.0_Cml10.0_DD60_R13.0.txt\n",
      "Write synth set B001 to file .//./example_test/Maduo/insar/pylith/3e19_7e19_K10/two_fault/GPS_syn_data_mRai_Cms100.0_Cml10.0_DD60_R13.0.txt\n",
      "Write res set B001 to file .//./example_test/Maduo/insar/pylith/3e19_7e19_K10/two_fault/GPS_res_data_mRai_Cms100.0_Cml10.0_DD60_R13.0.txt\n"
     ]
    }
   ],
   "source": [
    "dataGPS.buildsynth(faults,direction='sd')\n",
    "syndatafile='./example_test/Maduo/insar/'+resultpath+'/GPS_org_data'+ filemark +'.txt'\n",
    "dataGPS.write2file(syndatafile,data='data')\n",
    "syndatafile='./example_test/Maduo/insar/'+resultpath+'/GPS_syn_data'+ filemark +'.txt'\n",
    "dataGPS.write2file(syndatafile,data='synth')\n",
    "resdatafile='./example_test/Maduo/insar/'+resultpath+'/GPS_res_data'+ filemark +'.txt'\n",
    "dataGPS.write2file(resdatafile,data='res')"
   ]
  }
 ],
 "metadata": {
  "interpreter": {
   "hash": "097cffeb4d1d1c4916f6b01494b16276b71206f753c29c36b447fe2e0b121fbd"
  },
  "kernelspec": {
   "display_name": "Python 3.6.15 ('py36')",
   "language": "python",
   "name": "python3"
  },
  "language_info": {
   "codemirror_mode": {
    "name": "ipython",
    "version": 3
   },
   "file_extension": ".py",
   "mimetype": "text/x-python",
   "name": "python",
   "nbconvert_exporter": "python",
   "pygments_lexer": "ipython3",
   "version": "3.6.15"
  },
  "orig_nbformat": 4
 },
 "nbformat": 4,
 "nbformat_minor": 2
}
